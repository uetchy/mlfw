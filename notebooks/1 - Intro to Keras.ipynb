{
 "cells": [
  {
   "cell_type": "markdown",
   "metadata": {
    "slideshow": {
     "slide_type": "slide"
    }
   },
   "source": [
    "# Intro to Keras\n",
    "\n",
    "Keras (ケーラス)は、GoogleのFrançais Chollet (フランソワ・ショレ)が開発している、ディープラーニングライブラリです。\n",
    "\n",
    "## 特徴\n",
    "\n",
    "- 高い抽象度\n",
    "- バックエンドはTensorFlowもしくはTheano"
   ]
  },
  {
   "cell_type": "markdown",
   "metadata": {
    "deletable": true,
    "editable": true,
    "slideshow": {
     "slide_type": "slide"
    }
   },
   "source": [
    "## インストール\n",
    "\n",
    "macOSを使っているなら、\n",
    "\n",
    "```\n",
    "brew install python3\n",
    "pip3 install keras\n",
    "```\n",
    "\n",
    "## ソースコード\n",
    "\n",
    "```\n",
    "git clone https://github.com/fchollet/keras.git\n",
    "```"
   ]
  },
  {
   "cell_type": "markdown",
   "metadata": {
    "deletable": true,
    "editable": true,
    "slideshow": {
     "slide_type": "slide"
    }
   },
   "source": [
    "グラフ描画のために`matplotlib`を、テンソル計算のために`numpy`をそれぞれインポートします。"
   ]
  },
  {
   "cell_type": "code",
   "execution_count": 3,
   "metadata": {
    "collapsed": true,
    "deletable": true,
    "editable": true,
    "slideshow": {
     "slide_type": "-"
    }
   },
   "outputs": [],
   "source": [
    "%matplotlib inline\n",
    "from matplotlib import pyplot as plt\n",
    "import numpy as np"
   ]
  },
  {
   "cell_type": "markdown",
   "metadata": {
    "deletable": true,
    "editable": true,
    "slideshow": {
     "slide_type": "slide"
    }
   },
   "source": [
    "MNISTデータセットをインポートします。"
   ]
  },
  {
   "cell_type": "code",
   "execution_count": 4,
   "metadata": {
    "collapsed": false,
    "deletable": true,
    "editable": true,
    "slideshow": {
     "slide_type": "-"
    }
   },
   "outputs": [
    {
     "name": "stdout",
     "output_type": "stream",
     "text": [
      "(60000, 28, 28) uint8 [  0  45 186 253]\n"
     ]
    },
    {
     "data": {
      "image/png": "[encoded data removed]",
      "text/plain": [
       "<matplotlib.figure.Figure at 0x1154b4390>"
      ]
     },
     "metadata": {},
     "output_type": "display_data"
    }
   ],
   "source": [
    "from keras.datasets import mnist\n",
    "\n",
    "(X_train, y_train), (X_test, y_test) = mnist.load_data()\n",
    "\n",
    "print(X_train.shape, X_train.dtype, X_train[0][15][13:-11])\n",
    "\n",
    "figure, axes = plt.subplots(1,8, figsize=(28, 28))\n",
    "for i, data in enumerate(X_train[:8]):\n",
    "    axes[i].imshow(data, cmap='gray')\n",
    "    axes[i].set_title(y_train[i])\n",
    "figure.subplots_adjust(hspace=0)\n",
    "plt.show()"
   ]
  },
  {
   "cell_type": "markdown",
   "metadata": {
    "deletable": true,
    "editable": true,
    "slideshow": {
     "slide_type": "slide"
    }
   },
   "source": [
    "## MNIST\n",
    "Facebook AIのYann LeCun (ヤン・ル・カン)による手書き文字データセット「MNIST」はCNNによる文字識別タスクの試金石になっている。\n",
    "\n",
    "生データは0 - 255のintが28x28ピクセルある60000サンプル分のテンソル。"
   ]
  },
  {
   "cell_type": "markdown",
   "metadata": {
    "deletable": true,
    "editable": true,
    "slideshow": {
     "slide_type": "slide"
    }
   },
   "source": [
    "データセットを、TensorFlowで扱えるシェイプに変換します。"
   ]
  },
  {
   "cell_type": "code",
   "execution_count": 5,
   "metadata": {
    "collapsed": false,
    "deletable": true,
    "editable": true,
    "slideshow": {
     "slide_type": "-"
    }
   },
   "outputs": [
    {
     "name": "stdout",
     "output_type": "stream",
     "text": [
      "(60000, 28, 28, 1) uint8 [[  0]\n",
      " [ 45]\n",
      " [186]\n",
      " [253]]\n"
     ]
    }
   ],
   "source": [
    "img_rows, img_cols = 28, 28 # 入力画像の次元数\n",
    "\n",
    "X_train = X_train.reshape(X_train.shape[0], img_rows, img_cols, 1)\n",
    "X_test = X_test.reshape(X_test.shape[0], img_rows, img_cols, 1)\n",
    "print(X_train.shape, X_train.dtype, X_train[0][15][13:-11])"
   ]
  },
  {
   "cell_type": "markdown",
   "metadata": {
    "deletable": true,
    "editable": true,
    "slideshow": {
     "slide_type": "slide"
    }
   },
   "source": [
    "floatに変換します"
   ]
  },
  {
   "cell_type": "code",
   "execution_count": 6,
   "metadata": {
    "collapsed": false,
    "deletable": true,
    "editable": true,
    "slideshow": {
     "slide_type": "-"
    }
   },
   "outputs": [
    {
     "name": "stdout",
     "output_type": "stream",
     "text": [
      "(60000, 28, 28, 1) float32 [[   0.   45.  186.  253.]]\n"
     ]
    }
   ],
   "source": [
    "X_train = X_train.astype('float32')\n",
    "X_test = X_test.astype('float32')\n",
    "print(X_train.shape, X_train.dtype, X_train[0][15][13:-11].T)"
   ]
  },
  {
   "cell_type": "markdown",
   "metadata": {
    "deletable": true,
    "editable": true,
    "slideshow": {
     "slide_type": "fragment"
    }
   },
   "source": [
    "0.0 - 1.0 に正規化します"
   ]
  },
  {
   "cell_type": "code",
   "execution_count": 7,
   "metadata": {
    "collapsed": false,
    "deletable": true,
    "editable": true,
    "slideshow": {
     "slide_type": "-"
    }
   },
   "outputs": [
    {
     "name": "stdout",
     "output_type": "stream",
     "text": [
      "(60000, 28, 28, 1) float32 [[ 0.          0.17647059  0.72941178  0.99215686]]\n"
     ]
    }
   ],
   "source": [
    "X_train /= 255\n",
    "X_test /= 255\n",
    "print(X_train.shape, X_train.dtype, X_train[0][15][13:-11].T)"
   ]
  },
  {
   "cell_type": "code",
   "execution_count": 8,
   "metadata": {
    "collapsed": false,
    "deletable": true,
    "editable": true,
    "slideshow": {
     "slide_type": "slide"
    }
   },
   "outputs": [
    {
     "name": "stdout",
     "output_type": "stream",
     "text": [
      "60000 訓練サンプル\n",
      "10000 テストサンプル\n"
     ]
    }
   ],
   "source": [
    "print(X_train.shape[0], '訓練サンプル')\n",
    "print(X_test.shape[0], 'テストサンプル')"
   ]
  },
  {
   "cell_type": "code",
   "execution_count": 9,
   "metadata": {
    "collapsed": false,
    "deletable": true,
    "editable": true,
    "slideshow": {
     "slide_type": "slide"
    }
   },
   "outputs": [
    {
     "name": "stdout",
     "output_type": "stream",
     "text": [
      "[5 0 4 1 9 2 1 3 1 4]\n"
     ]
    }
   ],
   "source": [
    "from keras.utils import np_utils\n",
    "\n",
    "nb_classes = 10 # クラスの数。y_trainで網羅されている以上の数にするとzero-paddingされる\n",
    "print(y_train[:10]) # 数字がラベルになっている"
   ]
  },
  {
   "cell_type": "markdown",
   "metadata": {
    "deletable": true,
    "editable": true,
    "slideshow": {
     "slide_type": "fragment"
    }
   },
   "source": [
    "クラスの数×サンプル数のOne-hotベクトルに変換する"
   ]
  },
  {
   "cell_type": "code",
   "execution_count": 10,
   "metadata": {
    "collapsed": false,
    "deletable": true,
    "editable": true,
    "slideshow": {
     "slide_type": "-"
    }
   },
   "outputs": [
    {
     "name": "stdout",
     "output_type": "stream",
     "text": [
      "[[ 0.  0.  0.  0.  0.  1.  0.  0.  0.  0.]\n",
      " [ 1.  0.  0.  0.  0.  0.  0.  0.  0.  0.]\n",
      " [ 0.  0.  0.  0.  1.  0.  0.  0.  0.  0.]\n",
      " [ 0.  1.  0.  0.  0.  0.  0.  0.  0.  0.]\n",
      " [ 0.  0.  0.  0.  0.  0.  0.  0.  0.  1.]\n",
      " [ 0.  0.  1.  0.  0.  0.  0.  0.  0.  0.]\n",
      " [ 0.  1.  0.  0.  0.  0.  0.  0.  0.  0.]\n",
      " [ 0.  0.  0.  1.  0.  0.  0.  0.  0.  0.]\n",
      " [ 0.  1.  0.  0.  0.  0.  0.  0.  0.  0.]\n",
      " [ 0.  0.  0.  0.  1.  0.  0.  0.  0.  0.]]\n"
     ]
    }
   ],
   "source": [
    "Y_train = np_utils.to_categorical(y_train, nb_classes)\n",
    "Y_test = np_utils.to_categorical(y_test, nb_classes)\n",
    "print(Y_train[:10])"
   ]
  },
  {
   "cell_type": "markdown",
   "metadata": {
    "deletable": true,
    "editable": true,
    "slideshow": {
     "slide_type": "slide"
    }
   },
   "source": [
    "# モデルの構築\n",
    "\n",
    "モデルの構築に必要なレイヤーや活性化関数、定数項を準備します。"
   ]
  },
  {
   "cell_type": "code",
   "execution_count": 11,
   "metadata": {
    "collapsed": true,
    "deletable": true,
    "editable": true,
    "slideshow": {
     "slide_type": "-"
    }
   },
   "outputs": [],
   "source": [
    "from keras.models import Sequential\n",
    "from keras.layers import Dense, Dropout, Activation, Flatten\n",
    "from keras.layers import Convolution2D, MaxPooling2D\n",
    "\n",
    "nb_filters = 32 # 畳み込みフィルターの数\n",
    "pool_size = (2, 2) # Maxプーリングに於けるプーリングエリアのサイズ\n",
    "kernel_size = (3, 3) # 畳み込みカーネルのサイズ\n",
    "\n",
    "input_shape = (img_rows, img_cols, 1)"
   ]
  },
  {
   "cell_type": "markdown",
   "metadata": {
    "deletable": true,
    "editable": true,
    "slideshow": {
     "slide_type": "slide"
    }
   },
   "source": [
    "シーケンシャルモデルを宣言します。これに`add`関数を使ってレイヤーを追加していきます。"
   ]
  },
  {
   "cell_type": "code",
   "execution_count": 12,
   "metadata": {
    "collapsed": true,
    "deletable": true,
    "editable": true,
    "slideshow": {
     "slide_type": "-"
    }
   },
   "outputs": [],
   "source": [
    "model = Sequential()"
   ]
  },
  {
   "cell_type": "markdown",
   "metadata": {
    "deletable": true,
    "editable": true,
    "slideshow": {
     "slide_type": "fragment"
    }
   },
   "source": [
    "最初の畳み込み層をします。活性化関数としてReLUを加えます。"
   ]
  },
  {
   "cell_type": "code",
   "execution_count": 13,
   "metadata": {
    "collapsed": true,
    "deletable": true,
    "editable": true,
    "slideshow": {
     "slide_type": "-"
    }
   },
   "outputs": [],
   "source": [
    "model.add(Convolution2D(nb_filters, # 畳み込みフィルターの数\n",
    "                        kernel_size[0], # 畳み込みカーネルのサイズ\n",
    "                        kernel_size[1], # 畳み込みカーネルのサイズ\n",
    "                        border_mode='valid', # 境界モード\n",
    "                        input_shape=input_shape)) # 入力シェイプ\n",
    "model.add(Activation('relu'))"
   ]
  },
  {
   "cell_type": "markdown",
   "metadata": {
    "slideshow": {
     "slide_type": "fragment"
    }
   },
   "source": [
    "Convolution2Dがモデルの最初になる場合は、__input_shape__ が必須になります。"
   ]
  },
  {
   "cell_type": "markdown",
   "metadata": {
    "deletable": true,
    "editable": true,
    "slideshow": {
     "slide_type": "slide"
    }
   },
   "source": [
    "## ドキュメントに載っていない`border_mode`\n",
    "\n",
    "[StackOverflow](http://datascience.stackexchange.com/questions/11840/border-mode-for-convolutional-layers-in-keras)の議論によると、\n",
    "> 境界モード (border_mode)が \"有効 (valid)\"の場合、コンボリューションは入力とフィルタが完全に重なるところでのみ計算されるため、入力よりも小さい出力が得られます。 \n",
    "\n",
    "> 境界モード (border_mode)が \"同じ (same)\"の場合、入力と同じサイズの出力が得られます。\n",
    "つまり、フィルタは \"filter size / 2\"で入力の範囲外になければなりません。入力の外側の領域は通常0で埋められます。"
   ]
  },
  {
   "cell_type": "markdown",
   "metadata": {
    "deletable": true,
    "editable": true,
    "slideshow": {
     "slide_type": "slide"
    }
   },
   "source": [
    "## Rectified Linear Unit (ReLU)とは？\n",
    "\n",
    "$f(x) = \\max(0, x)$ のことです。\n",
    "\n",
    "[CS231n](http://cs231n.github.io/neural-networks-1/)から利点・欠点を引用。\n",
    "\n",
    "### 利点\n",
    "- Sigmoid / tanh関数と比較して確率的勾配降下の収束を大幅に加速することが分かっています。\n",
    "- 高価な操作（指数関数など）を伴うtanh / sigmoidニューロンと比較して、ReLUは単純にゼロで閾値処理することで実装できます。 \n",
    "\n",
    "### 欠点\n",
    "- 残念ながら、ReLUユニットは訓練中に壊れやすく、「死ぬ」可能性があります。例えば、ReLUニューロンを流れる大きな勾配は、ニューロンがデータポイント上で決して活性化しないように重みを更新させる可能性があります。これが起こると、ユニットを流れる勾配はその時点から永遠にゼロになります。"
   ]
  },
  {
   "cell_type": "markdown",
   "metadata": {
    "deletable": true,
    "editable": true,
    "slideshow": {
     "slide_type": "slide"
    }
   },
   "source": [
    "さらに畳み込み層 + ReLUを追加します。"
   ]
  },
  {
   "cell_type": "code",
   "execution_count": 14,
   "metadata": {
    "collapsed": true,
    "deletable": true,
    "editable": true,
    "slideshow": {
     "slide_type": "-"
    }
   },
   "outputs": [],
   "source": [
    "model.add(Convolution2D(\n",
    "    nb_filters,\n",
    "    kernel_size[0],\n",
    "    kernel_size[1]))\n",
    "model.add(Activation('relu'))"
   ]
  },
  {
   "cell_type": "markdown",
   "metadata": {
    "deletable": true,
    "editable": true,
    "slideshow": {
     "slide_type": "slide"
    }
   },
   "source": [
    "マックスプーリング層を追加します。"
   ]
  },
  {
   "cell_type": "code",
   "execution_count": 15,
   "metadata": {
    "collapsed": true,
    "deletable": true,
    "editable": true,
    "slideshow": {
     "slide_type": "-"
    }
   },
   "outputs": [],
   "source": [
    "model.add(MaxPooling2D(pool_size=pool_size))"
   ]
  },
  {
   "cell_type": "markdown",
   "metadata": {
    "deletable": true,
    "editable": true,
    "slideshow": {
     "slide_type": "fragment"
    }
   },
   "source": [
    "## マックスプーリング層とは\n",
    "プーリング層は、任意のシェイプ内での代表値を求めて圧縮する層です。\n",
    "その中でも__マックスプーリング__は、シェイプ内の最大値を代表値とするレイヤーです。\n",
    "\n",
    "他にも__平均プーリング__があり、それは平均値を代表値とします。"
   ]
  },
  {
   "cell_type": "markdown",
   "metadata": {
    "deletable": true,
    "editable": true,
    "slideshow": {
     "slide_type": "slide"
    }
   },
   "source": [
    "次に、ドロップアウト層をドロップ率0.25として追加します。"
   ]
  },
  {
   "cell_type": "code",
   "execution_count": 16,
   "metadata": {
    "collapsed": true,
    "deletable": true,
    "editable": true,
    "slideshow": {
     "slide_type": "-"
    }
   },
   "outputs": [],
   "source": [
    "model.add(Dropout(0.25))"
   ]
  },
  {
   "cell_type": "markdown",
   "metadata": {
    "deletable": true,
    "editable": true,
    "slideshow": {
     "slide_type": "fragment"
    }
   },
   "source": [
    "## ドロップアウト層とは\n",
    "\n",
    "Kerasドキュメントから引用\n",
    "\n",
    "> ドロップアウトは、訓練時のそれぞれの更新において入力ユニットのpをランダムに0にセットすることであり、それは過学習を防ぐのを助ける。"
   ]
  },
  {
   "cell_type": "markdown",
   "metadata": {
    "deletable": true,
    "editable": true,
    "slideshow": {
     "slide_type": "slide"
    }
   },
   "source": [
    "続いて、入力を平坦化します。バッチサイズに影響されません。\n",
    "例えば、`(12, 12, 32)`のシェイプは`(4608)`になります。"
   ]
  },
  {
   "cell_type": "code",
   "execution_count": 17,
   "metadata": {
    "collapsed": true,
    "deletable": true,
    "editable": true,
    "slideshow": {
     "slide_type": "-"
    }
   },
   "outputs": [],
   "source": [
    "model.add(Flatten())"
   ]
  },
  {
   "cell_type": "markdown",
   "metadata": {
    "deletable": true,
    "editable": true,
    "slideshow": {
     "slide_type": "fragment"
    }
   },
   "source": [
    "128次元の全結合レイヤー (fully-connected layer) + ReLUを追加します。"
   ]
  },
  {
   "cell_type": "code",
   "execution_count": 18,
   "metadata": {
    "collapsed": true,
    "deletable": true,
    "editable": true,
    "slideshow": {
     "slide_type": "-"
    }
   },
   "outputs": [],
   "source": [
    "model.add(Dense(128))\n",
    "model.add(Activation('relu'))"
   ]
  },
  {
   "cell_type": "markdown",
   "metadata": {
    "deletable": true,
    "editable": true,
    "slideshow": {
     "slide_type": "fragment"
    }
   },
   "source": [
    "## 全結合層とは\n",
    "\n",
    "単純に$z = Wx + b$の線形結合を行うレイヤーです。"
   ]
  },
  {
   "cell_type": "markdown",
   "metadata": {
    "deletable": true,
    "editable": true,
    "slideshow": {
     "slide_type": "slide"
    }
   },
   "source": [
    "ドロップアウト層"
   ]
  },
  {
   "cell_type": "code",
   "execution_count": 19,
   "metadata": {
    "collapsed": true,
    "deletable": true,
    "editable": true,
    "slideshow": {
     "slide_type": "-"
    }
   },
   "outputs": [],
   "source": [
    "model.add(Dropout(0.5))"
   ]
  },
  {
   "cell_type": "markdown",
   "metadata": {
    "deletable": true,
    "editable": true,
    "slideshow": {
     "slide_type": "slide"
    }
   },
   "source": [
    "予測したいクラスと同じ数の全結合レイヤー"
   ]
  },
  {
   "cell_type": "code",
   "execution_count": 20,
   "metadata": {
    "collapsed": true,
    "deletable": true,
    "editable": true,
    "slideshow": {
     "slide_type": "-"
    }
   },
   "outputs": [],
   "source": [
    "model.add(Dense(nb_classes))\n",
    "model.add(Activation('softmax'))"
   ]
  },
  {
   "cell_type": "markdown",
   "metadata": {
    "deletable": true,
    "editable": true,
    "slideshow": {
     "slide_type": "fragment"
    }
   },
   "source": [
    "## ソフトマックスとは？\n",
    "\n",
    "シグモイド関数の多変量版。\n",
    "出力の各成分は0から1の間をとり、全成分の和が1.0になる。\n",
    "もっとも大きい$x_i$が強調される性質。\n",
    "\n",
    "もっとも大きい$x_i$が1に、それ以外は0になるマックス関数をソフトにしたバージョンと考える。\n",
    "\n",
    "$$\\frac{\\exp(a_i)}{\\sum_j^n \\exp(a_j)},\\;i=1,\\ldots,n$$\n"
   ]
  },
  {
   "cell_type": "markdown",
   "metadata": {
    "deletable": true,
    "editable": true,
    "slideshow": {
     "slide_type": "slide"
    }
   },
   "source": [
    "仕上げにモデルの可視化をしてみます。"
   ]
  },
  {
   "cell_type": "code",
   "execution_count": 21,
   "metadata": {
    "collapsed": false,
    "deletable": true,
    "editable": true,
    "slideshow": {
     "slide_type": "-"
    }
   },
   "outputs": [
    {
     "data": {
      "image/svg+xml": [
       "<svg height=\"1025pt\" viewBox=\"0.00 0.00 391.56 1025.00\" width=\"392pt\" xmlns=\"http://www.w3.org/2000/svg\" xmlns:xlink=\"http://www.w3.org/1999/xlink\">\n",
       "<g class=\"graph\" id=\"graph0\" transform=\"scale(1 1) rotate(0) translate(4 1021)\">\n",
       "<title>G</title>\n",
       "<polygon fill=\"#ffffff\" points=\"-4,4 -4,-1021 387.5625,-1021 387.5625,4 -4,4\" stroke=\"transparent\"/>\n",
       "<!-- 4652173016 -->\n",
       "<g class=\"node\" id=\"node1\">\n",
       "<title>4652173016</title>\n",
       "<polygon fill=\"none\" points=\"0,-972.5 0,-1016.5 383.5625,-1016.5 383.5625,-972.5 0,-972.5\" stroke=\"#000000\"/>\n",
       "<text fill=\"#000000\" font-family=\"Times,serif\" font-size=\"14.00\" text-anchor=\"middle\" x=\"108.1226\" y=\"-990.3\">convolution2d_input_1: InputLayer</text>\n",
       "<polyline fill=\"none\" points=\"216.2451,-972.5 216.2451,-1016.5 \" stroke=\"#000000\"/>\n",
       "<text fill=\"#000000\" font-family=\"Times,serif\" font-size=\"14.00\" text-anchor=\"middle\" x=\"244.0796\" y=\"-1001.3\">input:</text>\n",
       "<polyline fill=\"none\" points=\"216.2451,-994.5 271.9141,-994.5 \" stroke=\"#000000\"/>\n",
       "<text fill=\"#000000\" font-family=\"Times,serif\" font-size=\"14.00\" text-anchor=\"middle\" x=\"244.0796\" y=\"-979.3\">output:</text>\n",
       "<polyline fill=\"none\" points=\"271.9141,-972.5 271.9141,-1016.5 \" stroke=\"#000000\"/>\n",
       "<text fill=\"#000000\" font-family=\"Times,serif\" font-size=\"14.00\" text-anchor=\"middle\" x=\"327.7383\" y=\"-1001.3\">(None, 28, 28, 1)</text>\n",
       "<polyline fill=\"none\" points=\"271.9141,-994.5 383.5625,-994.5 \" stroke=\"#000000\"/>\n",
       "<text fill=\"#000000\" font-family=\"Times,serif\" font-size=\"14.00\" text-anchor=\"middle\" x=\"327.7383\" y=\"-979.3\">(None, 28, 28, 1)</text>\n",
       "</g>\n",
       "<!-- 4652171896 -->\n",
       "<g class=\"node\" id=\"node2\">\n",
       "<title>4652171896</title>\n",
       "<polygon fill=\"none\" points=\"1.9277,-891.5 1.9277,-935.5 381.6348,-935.5 381.6348,-891.5 1.9277,-891.5\" stroke=\"#000000\"/>\n",
       "<text fill=\"#000000\" font-family=\"Times,serif\" font-size=\"14.00\" text-anchor=\"middle\" x=\"104.6226\" y=\"-909.3\">convolution2d_1: Convolution2D</text>\n",
       "<polyline fill=\"none\" points=\"207.3174,-891.5 207.3174,-935.5 \" stroke=\"#000000\"/>\n",
       "<text fill=\"#000000\" font-family=\"Times,serif\" font-size=\"14.00\" text-anchor=\"middle\" x=\"235.1519\" y=\"-920.3\">input:</text>\n",
       "<polyline fill=\"none\" points=\"207.3174,-913.5 262.9863,-913.5 \" stroke=\"#000000\"/>\n",
       "<text fill=\"#000000\" font-family=\"Times,serif\" font-size=\"14.00\" text-anchor=\"middle\" x=\"235.1519\" y=\"-898.3\">output:</text>\n",
       "<polyline fill=\"none\" points=\"262.9863,-891.5 262.9863,-935.5 \" stroke=\"#000000\"/>\n",
       "<text fill=\"#000000\" font-family=\"Times,serif\" font-size=\"14.00\" text-anchor=\"middle\" x=\"322.3105\" y=\"-920.3\">(None, 28, 28, 1)</text>\n",
       "<polyline fill=\"none\" points=\"262.9863,-913.5 381.6348,-913.5 \" stroke=\"#000000\"/>\n",
       "<text fill=\"#000000\" font-family=\"Times,serif\" font-size=\"14.00\" text-anchor=\"middle\" x=\"322.3105\" y=\"-898.3\">(None, 26, 26, 32)</text>\n",
       "</g>\n",
       "<!-- 4652173016&#45;&gt;4652171896 -->\n",
       "<g class=\"edge\" id=\"edge1\">\n",
       "<title>4652173016-&gt;4652171896</title>\n",
       "<path d=\"M191.7813,-972.3664C191.7813,-964.1516 191.7813,-954.6579 191.7813,-945.7252\" fill=\"none\" stroke=\"#000000\"/>\n",
       "<polygon fill=\"#000000\" points=\"195.2813,-945.6068 191.7813,-935.6068 188.2813,-945.6069 195.2813,-945.6068\" stroke=\"#000000\"/>\n",
       "</g>\n",
       "<!-- 4652172568 -->\n",
       "<g class=\"node\" id=\"node3\">\n",
       "<title>4652172568</title>\n",
       "<polygon fill=\"none\" points=\"29.1621,-810.5 29.1621,-854.5 354.4004,-854.5 354.4004,-810.5 29.1621,-810.5\" stroke=\"#000000\"/>\n",
       "<text fill=\"#000000\" font-family=\"Times,serif\" font-size=\"14.00\" text-anchor=\"middle\" x=\"104.6226\" y=\"-828.3\">activation_1: Activation</text>\n",
       "<polyline fill=\"none\" points=\"180.083,-810.5 180.083,-854.5 \" stroke=\"#000000\"/>\n",
       "<text fill=\"#000000\" font-family=\"Times,serif\" font-size=\"14.00\" text-anchor=\"middle\" x=\"207.9175\" y=\"-839.3\">input:</text>\n",
       "<polyline fill=\"none\" points=\"180.083,-832.5 235.752,-832.5 \" stroke=\"#000000\"/>\n",
       "<text fill=\"#000000\" font-family=\"Times,serif\" font-size=\"14.00\" text-anchor=\"middle\" x=\"207.9175\" y=\"-817.3\">output:</text>\n",
       "<polyline fill=\"none\" points=\"235.752,-810.5 235.752,-854.5 \" stroke=\"#000000\"/>\n",
       "<text fill=\"#000000\" font-family=\"Times,serif\" font-size=\"14.00\" text-anchor=\"middle\" x=\"295.0762\" y=\"-839.3\">(None, 26, 26, 32)</text>\n",
       "<polyline fill=\"none\" points=\"235.752,-832.5 354.4004,-832.5 \" stroke=\"#000000\"/>\n",
       "<text fill=\"#000000\" font-family=\"Times,serif\" font-size=\"14.00\" text-anchor=\"middle\" x=\"295.0762\" y=\"-817.3\">(None, 26, 26, 32)</text>\n",
       "</g>\n",
       "<!-- 4652171896&#45;&gt;4652172568 -->\n",
       "<g class=\"edge\" id=\"edge2\">\n",
       "<title>4652171896-&gt;4652172568</title>\n",
       "<path d=\"M191.7813,-891.3664C191.7813,-883.1516 191.7813,-873.6579 191.7813,-864.7252\" fill=\"none\" stroke=\"#000000\"/>\n",
       "<polygon fill=\"#000000\" points=\"195.2813,-864.6068 191.7813,-854.6068 188.2813,-864.6069 195.2813,-864.6068\" stroke=\"#000000\"/>\n",
       "</g>\n",
       "<!-- 4652173688 -->\n",
       "<g class=\"node\" id=\"node4\">\n",
       "<title>4652173688</title>\n",
       "<polygon fill=\"none\" points=\"1.9277,-729.5 1.9277,-773.5 381.6348,-773.5 381.6348,-729.5 1.9277,-729.5\" stroke=\"#000000\"/>\n",
       "<text fill=\"#000000\" font-family=\"Times,serif\" font-size=\"14.00\" text-anchor=\"middle\" x=\"104.6226\" y=\"-747.3\">convolution2d_2: Convolution2D</text>\n",
       "<polyline fill=\"none\" points=\"207.3174,-729.5 207.3174,-773.5 \" stroke=\"#000000\"/>\n",
       "<text fill=\"#000000\" font-family=\"Times,serif\" font-size=\"14.00\" text-anchor=\"middle\" x=\"235.1519\" y=\"-758.3\">input:</text>\n",
       "<polyline fill=\"none\" points=\"207.3174,-751.5 262.9863,-751.5 \" stroke=\"#000000\"/>\n",
       "<text fill=\"#000000\" font-family=\"Times,serif\" font-size=\"14.00\" text-anchor=\"middle\" x=\"235.1519\" y=\"-736.3\">output:</text>\n",
       "<polyline fill=\"none\" points=\"262.9863,-729.5 262.9863,-773.5 \" stroke=\"#000000\"/>\n",
       "<text fill=\"#000000\" font-family=\"Times,serif\" font-size=\"14.00\" text-anchor=\"middle\" x=\"322.3105\" y=\"-758.3\">(None, 26, 26, 32)</text>\n",
       "<polyline fill=\"none\" points=\"262.9863,-751.5 381.6348,-751.5 \" stroke=\"#000000\"/>\n",
       "<text fill=\"#000000\" font-family=\"Times,serif\" font-size=\"14.00\" text-anchor=\"middle\" x=\"322.3105\" y=\"-736.3\">(None, 24, 24, 32)</text>\n",
       "</g>\n",
       "<!-- 4652172568&#45;&gt;4652173688 -->\n",
       "<g class=\"edge\" id=\"edge3\">\n",
       "<title>4652172568-&gt;4652173688</title>\n",
       "<path d=\"M191.7813,-810.3664C191.7813,-802.1516 191.7813,-792.6579 191.7813,-783.7252\" fill=\"none\" stroke=\"#000000\"/>\n",
       "<polygon fill=\"#000000\" points=\"195.2813,-783.6068 191.7813,-773.6068 188.2813,-783.6069 195.2813,-783.6068\" stroke=\"#000000\"/>\n",
       "</g>\n",
       "<!-- 4726189640 -->\n",
       "<g class=\"node\" id=\"node5\">\n",
       "<title>4726189640</title>\n",
       "<polygon fill=\"none\" points=\"29.1621,-648.5 29.1621,-692.5 354.4004,-692.5 354.4004,-648.5 29.1621,-648.5\" stroke=\"#000000\"/>\n",
       "<text fill=\"#000000\" font-family=\"Times,serif\" font-size=\"14.00\" text-anchor=\"middle\" x=\"104.6226\" y=\"-666.3\">activation_2: Activation</text>\n",
       "<polyline fill=\"none\" points=\"180.083,-648.5 180.083,-692.5 \" stroke=\"#000000\"/>\n",
       "<text fill=\"#000000\" font-family=\"Times,serif\" font-size=\"14.00\" text-anchor=\"middle\" x=\"207.9175\" y=\"-677.3\">input:</text>\n",
       "<polyline fill=\"none\" points=\"180.083,-670.5 235.752,-670.5 \" stroke=\"#000000\"/>\n",
       "<text fill=\"#000000\" font-family=\"Times,serif\" font-size=\"14.00\" text-anchor=\"middle\" x=\"207.9175\" y=\"-655.3\">output:</text>\n",
       "<polyline fill=\"none\" points=\"235.752,-648.5 235.752,-692.5 \" stroke=\"#000000\"/>\n",
       "<text fill=\"#000000\" font-family=\"Times,serif\" font-size=\"14.00\" text-anchor=\"middle\" x=\"295.0762\" y=\"-677.3\">(None, 24, 24, 32)</text>\n",
       "<polyline fill=\"none\" points=\"235.752,-670.5 354.4004,-670.5 \" stroke=\"#000000\"/>\n",
       "<text fill=\"#000000\" font-family=\"Times,serif\" font-size=\"14.00\" text-anchor=\"middle\" x=\"295.0762\" y=\"-655.3\">(None, 24, 24, 32)</text>\n",
       "</g>\n",
       "<!-- 4652173688&#45;&gt;4726189640 -->\n",
       "<g class=\"edge\" id=\"edge4\">\n",
       "<title>4652173688-&gt;4726189640</title>\n",
       "<path d=\"M191.7813,-729.3664C191.7813,-721.1516 191.7813,-711.6579 191.7813,-702.7252\" fill=\"none\" stroke=\"#000000\"/>\n",
       "<polygon fill=\"#000000\" points=\"195.2813,-702.6068 191.7813,-692.6068 188.2813,-702.6069 195.2813,-702.6068\" stroke=\"#000000\"/>\n",
       "</g>\n",
       "<!-- 4652171336 -->\n",
       "<g class=\"node\" id=\"node6\">\n",
       "<title>4652171336</title>\n",
       "<polygon fill=\"none\" points=\"2.3174,-567.5 2.3174,-611.5 381.2451,-611.5 381.2451,-567.5 2.3174,-567.5\" stroke=\"#000000\"/>\n",
       "<text fill=\"#000000\" font-family=\"Times,serif\" font-size=\"14.00\" text-anchor=\"middle\" x=\"104.6226\" y=\"-585.3\">maxpooling2d_1: MaxPooling2D</text>\n",
       "<polyline fill=\"none\" points=\"206.9277,-567.5 206.9277,-611.5 \" stroke=\"#000000\"/>\n",
       "<text fill=\"#000000\" font-family=\"Times,serif\" font-size=\"14.00\" text-anchor=\"middle\" x=\"234.7622\" y=\"-596.3\">input:</text>\n",
       "<polyline fill=\"none\" points=\"206.9277,-589.5 262.5967,-589.5 \" stroke=\"#000000\"/>\n",
       "<text fill=\"#000000\" font-family=\"Times,serif\" font-size=\"14.00\" text-anchor=\"middle\" x=\"234.7622\" y=\"-574.3\">output:</text>\n",
       "<polyline fill=\"none\" points=\"262.5967,-567.5 262.5967,-611.5 \" stroke=\"#000000\"/>\n",
       "<text fill=\"#000000\" font-family=\"Times,serif\" font-size=\"14.00\" text-anchor=\"middle\" x=\"321.9209\" y=\"-596.3\">(None, 24, 24, 32)</text>\n",
       "<polyline fill=\"none\" points=\"262.5967,-589.5 381.2451,-589.5 \" stroke=\"#000000\"/>\n",
       "<text fill=\"#000000\" font-family=\"Times,serif\" font-size=\"14.00\" text-anchor=\"middle\" x=\"321.9209\" y=\"-574.3\">(None, 12, 12, 32)</text>\n",
       "</g>\n",
       "<!-- 4726189640&#45;&gt;4652171336 -->\n",
       "<g class=\"edge\" id=\"edge5\">\n",
       "<title>4726189640-&gt;4652171336</title>\n",
       "<path d=\"M191.7813,-648.3664C191.7813,-640.1516 191.7813,-630.6579 191.7813,-621.7252\" fill=\"none\" stroke=\"#000000\"/>\n",
       "<polygon fill=\"#000000\" points=\"195.2813,-621.6068 191.7813,-611.6068 188.2813,-621.6069 195.2813,-621.6068\" stroke=\"#000000\"/>\n",
       "</g>\n",
       "<!-- 4652172512 -->\n",
       "<g class=\"node\" id=\"node7\">\n",
       "<title>4652172512</title>\n",
       "<polygon fill=\"none\" points=\"40.8208,-486.5 40.8208,-530.5 342.7417,-530.5 342.7417,-486.5 40.8208,-486.5\" stroke=\"#000000\"/>\n",
       "<text fill=\"#000000\" font-family=\"Times,serif\" font-size=\"14.00\" text-anchor=\"middle\" x=\"104.6226\" y=\"-504.3\">dropout_1: Dropout</text>\n",
       "<polyline fill=\"none\" points=\"168.4243,-486.5 168.4243,-530.5 \" stroke=\"#000000\"/>\n",
       "<text fill=\"#000000\" font-family=\"Times,serif\" font-size=\"14.00\" text-anchor=\"middle\" x=\"196.2588\" y=\"-515.3\">input:</text>\n",
       "<polyline fill=\"none\" points=\"168.4243,-508.5 224.0933,-508.5 \" stroke=\"#000000\"/>\n",
       "<text fill=\"#000000\" font-family=\"Times,serif\" font-size=\"14.00\" text-anchor=\"middle\" x=\"196.2588\" y=\"-493.3\">output:</text>\n",
       "<polyline fill=\"none\" points=\"224.0933,-486.5 224.0933,-530.5 \" stroke=\"#000000\"/>\n",
       "<text fill=\"#000000\" font-family=\"Times,serif\" font-size=\"14.00\" text-anchor=\"middle\" x=\"283.4175\" y=\"-515.3\">(None, 12, 12, 32)</text>\n",
       "<polyline fill=\"none\" points=\"224.0933,-508.5 342.7417,-508.5 \" stroke=\"#000000\"/>\n",
       "<text fill=\"#000000\" font-family=\"Times,serif\" font-size=\"14.00\" text-anchor=\"middle\" x=\"283.4175\" y=\"-493.3\">(None, 12, 12, 32)</text>\n",
       "</g>\n",
       "<!-- 4652171336&#45;&gt;4652172512 -->\n",
       "<g class=\"edge\" id=\"edge6\">\n",
       "<title>4652171336-&gt;4652172512</title>\n",
       "<path d=\"M191.7813,-567.3664C191.7813,-559.1516 191.7813,-549.6579 191.7813,-540.7252\" fill=\"none\" stroke=\"#000000\"/>\n",
       "<polygon fill=\"#000000\" points=\"195.2813,-540.6068 191.7813,-530.6068 188.2813,-540.6069 195.2813,-540.6068\" stroke=\"#000000\"/>\n",
       "</g>\n",
       "<!-- 4652174528 -->\n",
       "<g class=\"node\" id=\"node8\">\n",
       "<title>4652174528</title>\n",
       "<polygon fill=\"none\" points=\"48.9897,-405.5 48.9897,-449.5 334.5728,-449.5 334.5728,-405.5 48.9897,-405.5\" stroke=\"#000000\"/>\n",
       "<text fill=\"#000000\" font-family=\"Times,serif\" font-size=\"14.00\" text-anchor=\"middle\" x=\"104.6226\" y=\"-423.3\">flatten_1: Flatten</text>\n",
       "<polyline fill=\"none\" points=\"160.2554,-405.5 160.2554,-449.5 \" stroke=\"#000000\"/>\n",
       "<text fill=\"#000000\" font-family=\"Times,serif\" font-size=\"14.00\" text-anchor=\"middle\" x=\"188.0898\" y=\"-434.3\">input:</text>\n",
       "<polyline fill=\"none\" points=\"160.2554,-427.5 215.9243,-427.5 \" stroke=\"#000000\"/>\n",
       "<text fill=\"#000000\" font-family=\"Times,serif\" font-size=\"14.00\" text-anchor=\"middle\" x=\"188.0898\" y=\"-412.3\">output:</text>\n",
       "<polyline fill=\"none\" points=\"215.9243,-405.5 215.9243,-449.5 \" stroke=\"#000000\"/>\n",
       "<text fill=\"#000000\" font-family=\"Times,serif\" font-size=\"14.00\" text-anchor=\"middle\" x=\"275.2485\" y=\"-434.3\">(None, 12, 12, 32)</text>\n",
       "<polyline fill=\"none\" points=\"215.9243,-427.5 334.5728,-427.5 \" stroke=\"#000000\"/>\n",
       "<text fill=\"#000000\" font-family=\"Times,serif\" font-size=\"14.00\" text-anchor=\"middle\" x=\"275.2485\" y=\"-412.3\">(None, 4608)</text>\n",
       "</g>\n",
       "<!-- 4652172512&#45;&gt;4652174528 -->\n",
       "<g class=\"edge\" id=\"edge7\">\n",
       "<title>4652172512-&gt;4652174528</title>\n",
       "<path d=\"M191.7813,-486.3664C191.7813,-478.1516 191.7813,-468.6579 191.7813,-459.7252\" fill=\"none\" stroke=\"#000000\"/>\n",
       "<polygon fill=\"#000000\" points=\"195.2813,-459.6068 191.7813,-449.6068 188.2813,-459.6069 195.2813,-459.6068\" stroke=\"#000000\"/>\n",
       "</g>\n",
       "<!-- 4947930024 -->\n",
       "<g class=\"node\" id=\"node9\">\n",
       "<title>4947930024</title>\n",
       "<polygon fill=\"none\" points=\"66.4966,-324.5 66.4966,-368.5 317.0659,-368.5 317.0659,-324.5 66.4966,-324.5\" stroke=\"#000000\"/>\n",
       "<text fill=\"#000000\" font-family=\"Times,serif\" font-size=\"14.00\" text-anchor=\"middle\" x=\"118.6226\" y=\"-342.3\">dense_1: Dense</text>\n",
       "<polyline fill=\"none\" points=\"170.7485,-324.5 170.7485,-368.5 \" stroke=\"#000000\"/>\n",
       "<text fill=\"#000000\" font-family=\"Times,serif\" font-size=\"14.00\" text-anchor=\"middle\" x=\"198.583\" y=\"-353.3\">input:</text>\n",
       "<polyline fill=\"none\" points=\"170.7485,-346.5 226.4175,-346.5 \" stroke=\"#000000\"/>\n",
       "<text fill=\"#000000\" font-family=\"Times,serif\" font-size=\"14.00\" text-anchor=\"middle\" x=\"198.583\" y=\"-331.3\">output:</text>\n",
       "<polyline fill=\"none\" points=\"226.4175,-324.5 226.4175,-368.5 \" stroke=\"#000000\"/>\n",
       "<text fill=\"#000000\" font-family=\"Times,serif\" font-size=\"14.00\" text-anchor=\"middle\" x=\"271.7417\" y=\"-353.3\">(None, 4608)</text>\n",
       "<polyline fill=\"none\" points=\"226.4175,-346.5 317.0659,-346.5 \" stroke=\"#000000\"/>\n",
       "<text fill=\"#000000\" font-family=\"Times,serif\" font-size=\"14.00\" text-anchor=\"middle\" x=\"271.7417\" y=\"-331.3\">(None, 128)</text>\n",
       "</g>\n",
       "<!-- 4652174528&#45;&gt;4947930024 -->\n",
       "<g class=\"edge\" id=\"edge8\">\n",
       "<title>4652174528-&gt;4947930024</title>\n",
       "<path d=\"M191.7813,-405.3664C191.7813,-397.1516 191.7813,-387.6579 191.7813,-378.7252\" fill=\"none\" stroke=\"#000000\"/>\n",
       "<polygon fill=\"#000000\" points=\"195.2813,-378.6068 191.7813,-368.6068 188.2813,-378.6069 195.2813,-378.6068\" stroke=\"#000000\"/>\n",
       "</g>\n",
       "<!-- 4947929576 -->\n",
       "<g class=\"node\" id=\"node10\">\n",
       "<title>4947929576</title>\n",
       "<polygon fill=\"none\" points=\"46.6621,-243.5 46.6621,-287.5 336.9004,-287.5 336.9004,-243.5 46.6621,-243.5\" stroke=\"#000000\"/>\n",
       "<text fill=\"#000000\" font-family=\"Times,serif\" font-size=\"14.00\" text-anchor=\"middle\" x=\"122.1226\" y=\"-261.3\">activation_3: Activation</text>\n",
       "<polyline fill=\"none\" points=\"197.583,-243.5 197.583,-287.5 \" stroke=\"#000000\"/>\n",
       "<text fill=\"#000000\" font-family=\"Times,serif\" font-size=\"14.00\" text-anchor=\"middle\" x=\"225.4175\" y=\"-272.3\">input:</text>\n",
       "<polyline fill=\"none\" points=\"197.583,-265.5 253.252,-265.5 \" stroke=\"#000000\"/>\n",
       "<text fill=\"#000000\" font-family=\"Times,serif\" font-size=\"14.00\" text-anchor=\"middle\" x=\"225.4175\" y=\"-250.3\">output:</text>\n",
       "<polyline fill=\"none\" points=\"253.252,-243.5 253.252,-287.5 \" stroke=\"#000000\"/>\n",
       "<text fill=\"#000000\" font-family=\"Times,serif\" font-size=\"14.00\" text-anchor=\"middle\" x=\"295.0762\" y=\"-272.3\">(None, 128)</text>\n",
       "<polyline fill=\"none\" points=\"253.252,-265.5 336.9004,-265.5 \" stroke=\"#000000\"/>\n",
       "<text fill=\"#000000\" font-family=\"Times,serif\" font-size=\"14.00\" text-anchor=\"middle\" x=\"295.0762\" y=\"-250.3\">(None, 128)</text>\n",
       "</g>\n",
       "<!-- 4947930024&#45;&gt;4947929576 -->\n",
       "<g class=\"edge\" id=\"edge9\">\n",
       "<title>4947930024-&gt;4947929576</title>\n",
       "<path d=\"M191.7813,-324.3664C191.7813,-316.1516 191.7813,-306.6579 191.7813,-297.7252\" fill=\"none\" stroke=\"#000000\"/>\n",
       "<polygon fill=\"#000000\" points=\"195.2813,-297.6068 191.7813,-287.6068 188.2813,-297.6069 195.2813,-297.6068\" stroke=\"#000000\"/>\n",
       "</g>\n",
       "<!-- 4947618392 -->\n",
       "<g class=\"node\" id=\"node11\">\n",
       "<title>4947618392</title>\n",
       "<polygon fill=\"none\" points=\"58.3208,-162.5 58.3208,-206.5 325.2417,-206.5 325.2417,-162.5 58.3208,-162.5\" stroke=\"#000000\"/>\n",
       "<text fill=\"#000000\" font-family=\"Times,serif\" font-size=\"14.00\" text-anchor=\"middle\" x=\"122.1226\" y=\"-180.3\">dropout_2: Dropout</text>\n",
       "<polyline fill=\"none\" points=\"185.9243,-162.5 185.9243,-206.5 \" stroke=\"#000000\"/>\n",
       "<text fill=\"#000000\" font-family=\"Times,serif\" font-size=\"14.00\" text-anchor=\"middle\" x=\"213.7588\" y=\"-191.3\">input:</text>\n",
       "<polyline fill=\"none\" points=\"185.9243,-184.5 241.5933,-184.5 \" stroke=\"#000000\"/>\n",
       "<text fill=\"#000000\" font-family=\"Times,serif\" font-size=\"14.00\" text-anchor=\"middle\" x=\"213.7588\" y=\"-169.3\">output:</text>\n",
       "<polyline fill=\"none\" points=\"241.5933,-162.5 241.5933,-206.5 \" stroke=\"#000000\"/>\n",
       "<text fill=\"#000000\" font-family=\"Times,serif\" font-size=\"14.00\" text-anchor=\"middle\" x=\"283.4175\" y=\"-191.3\">(None, 128)</text>\n",
       "<polyline fill=\"none\" points=\"241.5933,-184.5 325.2417,-184.5 \" stroke=\"#000000\"/>\n",
       "<text fill=\"#000000\" font-family=\"Times,serif\" font-size=\"14.00\" text-anchor=\"middle\" x=\"283.4175\" y=\"-169.3\">(None, 128)</text>\n",
       "</g>\n",
       "<!-- 4947929576&#45;&gt;4947618392 -->\n",
       "<g class=\"edge\" id=\"edge10\">\n",
       "<title>4947929576-&gt;4947618392</title>\n",
       "<path d=\"M191.7813,-243.3664C191.7813,-235.1516 191.7813,-225.6579 191.7813,-216.7252\" fill=\"none\" stroke=\"#000000\"/>\n",
       "<polygon fill=\"#000000\" points=\"195.2813,-216.6068 191.7813,-206.6068 188.2813,-216.6069 195.2813,-216.6068\" stroke=\"#000000\"/>\n",
       "</g>\n",
       "<!-- 4948084888 -->\n",
       "<g class=\"node\" id=\"node12\">\n",
       "<title>4948084888</title>\n",
       "<polygon fill=\"none\" points=\"69.9966,-81.5 69.9966,-125.5 313.5659,-125.5 313.5659,-81.5 69.9966,-81.5\" stroke=\"#000000\"/>\n",
       "<text fill=\"#000000\" font-family=\"Times,serif\" font-size=\"14.00\" text-anchor=\"middle\" x=\"122.1226\" y=\"-99.3\">dense_2: Dense</text>\n",
       "<polyline fill=\"none\" points=\"174.2485,-81.5 174.2485,-125.5 \" stroke=\"#000000\"/>\n",
       "<text fill=\"#000000\" font-family=\"Times,serif\" font-size=\"14.00\" text-anchor=\"middle\" x=\"202.083\" y=\"-110.3\">input:</text>\n",
       "<polyline fill=\"none\" points=\"174.2485,-103.5 229.9175,-103.5 \" stroke=\"#000000\"/>\n",
       "<text fill=\"#000000\" font-family=\"Times,serif\" font-size=\"14.00\" text-anchor=\"middle\" x=\"202.083\" y=\"-88.3\">output:</text>\n",
       "<polyline fill=\"none\" points=\"229.9175,-81.5 229.9175,-125.5 \" stroke=\"#000000\"/>\n",
       "<text fill=\"#000000\" font-family=\"Times,serif\" font-size=\"14.00\" text-anchor=\"middle\" x=\"271.7417\" y=\"-110.3\">(None, 128)</text>\n",
       "<polyline fill=\"none\" points=\"229.9175,-103.5 313.5659,-103.5 \" stroke=\"#000000\"/>\n",
       "<text fill=\"#000000\" font-family=\"Times,serif\" font-size=\"14.00\" text-anchor=\"middle\" x=\"271.7417\" y=\"-88.3\">(None, 10)</text>\n",
       "</g>\n",
       "<!-- 4947618392&#45;&gt;4948084888 -->\n",
       "<g class=\"edge\" id=\"edge11\">\n",
       "<title>4947618392-&gt;4948084888</title>\n",
       "<path d=\"M191.7813,-162.3664C191.7813,-154.1516 191.7813,-144.6579 191.7813,-135.7252\" fill=\"none\" stroke=\"#000000\"/>\n",
       "<polygon fill=\"#000000\" points=\"195.2813,-135.6068 191.7813,-125.6068 188.2813,-135.6069 195.2813,-135.6068\" stroke=\"#000000\"/>\n",
       "</g>\n",
       "<!-- 4948085224 -->\n",
       "<g class=\"node\" id=\"node13\">\n",
       "<title>4948085224</title>\n",
       "<polygon fill=\"none\" points=\"50.1621,-.5 50.1621,-44.5 333.4004,-44.5 333.4004,-.5 50.1621,-.5\" stroke=\"#000000\"/>\n",
       "<text fill=\"#000000\" font-family=\"Times,serif\" font-size=\"14.00\" text-anchor=\"middle\" x=\"125.6226\" y=\"-18.3\">activation_4: Activation</text>\n",
       "<polyline fill=\"none\" points=\"201.083,-.5 201.083,-44.5 \" stroke=\"#000000\"/>\n",
       "<text fill=\"#000000\" font-family=\"Times,serif\" font-size=\"14.00\" text-anchor=\"middle\" x=\"228.9175\" y=\"-29.3\">input:</text>\n",
       "<polyline fill=\"none\" points=\"201.083,-22.5 256.752,-22.5 \" stroke=\"#000000\"/>\n",
       "<text fill=\"#000000\" font-family=\"Times,serif\" font-size=\"14.00\" text-anchor=\"middle\" x=\"228.9175\" y=\"-7.3\">output:</text>\n",
       "<polyline fill=\"none\" points=\"256.752,-.5 256.752,-44.5 \" stroke=\"#000000\"/>\n",
       "<text fill=\"#000000\" font-family=\"Times,serif\" font-size=\"14.00\" text-anchor=\"middle\" x=\"295.0762\" y=\"-29.3\">(None, 10)</text>\n",
       "<polyline fill=\"none\" points=\"256.752,-22.5 333.4004,-22.5 \" stroke=\"#000000\"/>\n",
       "<text fill=\"#000000\" font-family=\"Times,serif\" font-size=\"14.00\" text-anchor=\"middle\" x=\"295.0762\" y=\"-7.3\">(None, 10)</text>\n",
       "</g>\n",
       "<!-- 4948084888&#45;&gt;4948085224 -->\n",
       "<g class=\"edge\" id=\"edge12\">\n",
       "<title>4948084888-&gt;4948085224</title>\n",
       "<path d=\"M191.7813,-81.3664C191.7813,-73.1516 191.7813,-63.6579 191.7813,-54.7252\" fill=\"none\" stroke=\"#000000\"/>\n",
       "<polygon fill=\"#000000\" points=\"195.2813,-54.6068 191.7813,-44.6068 188.2813,-54.6069 195.2813,-54.6068\" stroke=\"#000000\"/>\n",
       "</g>\n",
       "</g>\n",
       "</svg>"
      ],
      "text/plain": [
       "<IPython.core.display.SVG object>"
      ]
     },
     "execution_count": 21,
     "metadata": {},
     "output_type": "execute_result"
    }
   ],
   "source": [
    "from IPython.display import SVG\n",
    "from keras.utils.visualize_util import model_to_dot\n",
    "\n",
    "SVG(model_to_dot(model, show_shapes=True).create(prog='dot', format='svg'))"
   ]
  },
  {
   "cell_type": "markdown",
   "metadata": {
    "slideshow": {
     "slide_type": "slide"
    }
   },
   "source": [
    "損失関数と最適化関数、およびメトリクスを指定してモデルをコンパイルします。"
   ]
  },
  {
   "cell_type": "code",
   "execution_count": 22,
   "metadata": {
    "collapsed": true,
    "slideshow": {
     "slide_type": "-"
    }
   },
   "outputs": [],
   "source": [
    "model.compile(loss='categorical_crossentropy',\n",
    "              optimizer='adadelta',\n",
    "              metrics=['accuracy'])"
   ]
  },
  {
   "cell_type": "markdown",
   "metadata": {
    "deletable": true,
    "editable": true,
    "slideshow": {
     "slide_type": "-"
    }
   },
   "source": [
    "最適化関数については、[「勾配降下法の最適化アルゴリズムを概観する」](http://postd.cc/optimizing-gradient-descent/)を参照してください。"
   ]
  },
  {
   "cell_type": "markdown",
   "metadata": {
    "slideshow": {
     "slide_type": "slide"
    }
   },
   "source": [
    "こうして完成したモデルはJSONで保存することが出来ます。"
   ]
  },
  {
   "cell_type": "code",
   "execution_count": 23,
   "metadata": {
    "collapsed": false,
    "slideshow": {
     "slide_type": "-"
    }
   },
   "outputs": [
    {
     "name": "stdout",
     "output_type": "stream",
     "text": [
      "class_name: Sequential\n",
      "config:\n",
      "- class_name: Convolution2D\n",
      "  config:\n",
      "    W_constraint: null\n",
      "    W_regularizer: null\n",
      "    activation: linear\n",
      "    activity_regularizer: null\n",
      "    b_constraint: null\n",
      "    b_regularizer: null\n",
      "    batch_input_shape: !!python/tuple [null, 28, 28, 1]\n",
      "    bias: true\n",
      "    border_mode: valid\n",
      "    dim_ordering: tf\n",
      "    init: glorot_uniform\n",
      "    input_dtype: float32\n",
      "    name: convolution2d_1\n",
      "    nb_col: 3\n",
      "    nb_filter: 32\n",
      "    nb_row: 3\n",
      "    subsample: &id001 !!python/tuple [1, 1]\n",
      "    trainable: true\n",
      "- class_name: Activation\n",
      "  config: {activation: relu, name: activation_1, trainable: true}\n",
      "- class_name: Convolution2D\n",
      "  config:\n",
      "    W_constraint: null\n",
      "    W_regularizer: null\n",
      "    activation: linear\n",
      "    activity_regularizer: null\n",
      "    b_constraint: null\n",
      "    b_regularizer: null\n",
      "    bias: true\n",
      "    border_mode: valid\n",
      "    dim_ordering: tf\n",
      "    init: glorot_uniform\n",
      "    name: convolution2d_2\n",
      "    nb_col: 3\n",
      "    nb_filter: 32\n",
      "    nb_row: 3\n",
      "    subsample: *id001\n",
      "    trainable: true\n",
      "- class_name: Activation\n",
      "  config: {activation: relu, name: activation_2, trainable: true}\n",
      "- class_name: MaxPooling2D\n",
      "  config:\n",
      "    border_mode: valid\n",
      "    dim_ordering: tf\n",
      "    name: maxpooling2d_1\n",
      "    pool_size: &id002 !!python/tuple [2, 2]\n",
      "    strides: *id002\n",
      "    trainable: true\n",
      "- class_name: Dropout\n",
      "  config: {name: dropout_1, p: 0.25, trainable: true}\n",
      "- class_name: Flatten\n",
      "  config: {name: flatten_1, trainable: true}\n",
      "- class_name: Dense\n",
      "  config:\n",
      "    W_constraint: null\n",
      "    W_regularizer: null\n",
      "    activation: linear\n",
      "    activity_regularizer: null\n",
      "    b_constraint: null\n",
      "    b_regularizer: null\n",
      "    bias: true\n",
      "    init: glorot_uniform\n",
      "    input_dim: !!python/object/apply:numpy.core.multiarray.scalar\n",
      "    - !!python/object/apply:numpy.dtype\n",
      "      args: [i8, 0, 1]\n",
      "      state: !!python/tuple [3, <, null, null, null, -1, -1, 0]\n",
      "    - !!binary |\n",
      "      ABIAAAAAAAA=\n",
      "    name: dense_1\n",
      "    output_dim: 128\n",
      "    trainable: true\n",
      "- class_name: Activation\n",
      "  config: {activation: relu, name: activation_3, trainable: true}\n",
      "- class_name: Dropout\n",
      "  config: {name: dropout_2, p: 0.5, trainable: true}\n",
      "- class_name: Dense\n",
      "  config: {W_constraint: null, W_regularizer: null, activation: linear, activity_regularizer: null,\n",
      "    b_constraint: null, b_regularizer: null, bias: true, init: glorot_uniform, input_dim: 128,\n",
      "    name: dense_2, output_dim: 10, trainable: true}\n",
      "- class_name: Activation\n",
      "  config: {activation: softmax, name: activation_4, trainable: true}\n",
      "keras_version: 1.2.2\n",
      "\n"
     ]
    }
   ],
   "source": [
    "print(model.to_yaml())"
   ]
  },
  {
   "cell_type": "markdown",
   "metadata": {
    "slideshow": {
     "slide_type": "slide"
    }
   },
   "source": [
    "モデルに訓練データとラベルを与えて重みを学習させます。"
   ]
  },
  {
   "cell_type": "code",
   "execution_count": null,
   "metadata": {
    "collapsed": false,
    "slideshow": {
     "slide_type": "-"
    }
   },
   "outputs": [],
   "source": [
    "batch_size = 128 # バッチのサイズ\n",
    "nb_epoch = 12 # エポック数; 繰り返す回数\n",
    "\n",
    "model.fit(X_train,\n",
    "          Y_train,\n",
    "          batch_size=batch_size,\n",
    "          nb_epoch=nb_epoch,\n",
    "          verbose=1,\n",
    "          validation_data=(X_test, Y_test))"
   ]
  },
  {
   "cell_type": "markdown",
   "metadata": {
    "slideshow": {
     "slide_type": "slide"
    }
   },
   "source": [
    "学習し終えたら、テストデータを与えて性能を評価します。"
   ]
  },
  {
   "cell_type": "code",
   "execution_count": null,
   "metadata": {
    "collapsed": false,
    "deletable": true,
    "editable": true,
    "slideshow": {
     "slide_type": "-"
    }
   },
   "outputs": [],
   "source": [
    "score = model.evaluate(X_test, Y_test, verbose=0)\n",
    "print('Test score:', score[0])\n",
    "print('Test accuracy:', score[1])"
   ]
  }
 ],
 "metadata": {
  "celltoolbar": "Slideshow",
  "kernelspec": {
   "display_name": "Python 3",
   "language": "python",
   "name": "python3"
  },
  "language_info": {
   "codemirror_mode": {
    "name": "ipython",
    "version": 3
   },
   "file_extension": ".py",
   "mimetype": "text/x-python",
   "name": "python",
   "nbconvert_exporter": "python",
   "pygments_lexer": "ipython3",
   "version": "3.5.2"
  }
 },
 "nbformat": 4,
 "nbformat_minor": 2
}
